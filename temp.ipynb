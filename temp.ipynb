{
 "cells": [
  {
   "cell_type": "code",
   "execution_count": 4,
   "metadata": {},
   "outputs": [
    {
     "name": "stdout",
     "output_type": "stream",
     "text": [
      "CRS of the TIFF file: EPSG:4326\n"
     ]
    }
   ],
   "source": [
    "import rasterio\n",
    "\n",
    "def read_crs_from_tif(file_path):\n",
    "    \"\"\"\n",
    "    Read the Coordinate Reference System (CRS) from a GeoTIFF file.\n",
    "    \n",
    "    :param file_path: Path to the GeoTIFF file.\n",
    "    :return: CRS of the GeoTIFF file.\n",
    "    \"\"\"\n",
    "    try:\n",
    "        with rasterio.open(file_path) as dataset:\n",
    "            # Retrieve the CRS\n",
    "            crs = dataset.crs\n",
    "            return crs\n",
    "    except Exception as e:\n",
    "        return f\"An error occurred: {e}\"\n",
    "\n",
    "# Example usage\n",
    "file_path = 'data/data_disini/ROIs0000_validation/s2_0/ROIs0000_validation_s2_0_p3.tif'\n",
    "file_path = 'data/data_disini/ROIs0000_test/dfc_0/ROIs0000_test_dfc_0_p5131.tif'\n",
    "# file_path = 'data/data_disini/ROIs0000_test/s2_0/ROIs0000_test_s2_0_p5131.tif'\n",
    "file_path = 'finetune_cacao/cacao training image dfc/ROIs0000_test_dfc_0_p5128.tif'\n",
    "crs = read_crs_from_tif(file_path)\n",
    "print(\"CRS of the TIFF file:\", crs)\n"
   ]
  },
  {
   "cell_type": "code",
   "execution_count": null,
   "metadata": {},
   "outputs": [],
   "source": []
  }
 ],
 "metadata": {
  "kernelspec": {
   "display_name": "ssl",
   "language": "python",
   "name": "python3"
  },
  "language_info": {
   "codemirror_mode": {
    "name": "ipython",
    "version": 3
   },
   "file_extension": ".py",
   "mimetype": "text/x-python",
   "name": "python",
   "nbconvert_exporter": "python",
   "pygments_lexer": "ipython3",
   "version": "3.9.18"
  }
 },
 "nbformat": 4,
 "nbformat_minor": 2
}
