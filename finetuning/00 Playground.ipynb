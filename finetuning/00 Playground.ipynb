{
 "cells": [
  {
   "cell_type": "markdown",
   "metadata": {},
   "source": [
    "Check how to get labels on dfcdataloader"
   ]
  },
  {
   "cell_type": "code",
   "execution_count": 63,
   "metadata": {},
   "outputs": [],
   "source": [
    "import os\n",
    "# os.chdir('/Users/aradinka/Documents/GitHub/koltiva/SSLTransformerRS')\n",
    "\n",
    "from tqdm import tqdm\n",
    "import torch\n",
    "import torchvision.models as models\n",
    "\n",
    "from dfc_dataset import DFCDataset\n",
    "from metrics import ClasswiseAccuracy\n",
    "\n",
    "data_config = {\n",
    "    'train_dir': '../data/data_disini',\n",
    "    'val_dir': '../data/data_disini',\n",
    "    'train_mode': 'test', # 'test', 'validation'\n",
    "    'val_mode': 'validation', # 'test', 'validation'\n",
    "    'num_classes': 9, # kepake\n",
    "    'clip_sample_values': True, # clip (limit) values\n",
    "    'train_used_data_fraction': 1, # fraction of data to use, should be in the range [0, 1]\n",
    "    'val_used_data_fraction': 1,\n",
    "    'image_px_size': 224,\n",
    "    'cover_all_parts_train': True, # if True, if image_px_size is not 224 during training, we use a random crop of the image\n",
    "    'cover_all_parts_validation': True, # if True, if image_px_size is not 224 during validation, we use a non-overlapping sliding window to cover the entire image\n",
    "    'seed': 42,\n",
    "}\n",
    "\n",
    "train_config = {\n",
    "    's1_input_channels': 2,\n",
    "    's2_input_channels': 13,\n",
    "    'finetuning': True, # If false, backbone layers is frozen and only the head is trained\n",
    "    'classifier_lr': 3e-6,\n",
    "    'learning_rate': 0.00001,\n",
    "    'adam_betas': (0.9, 0.999), \n",
    "    'weight_decay': 0.001,\n",
    "    'dataloader_workers': 4, # dipake\n",
    "    'batch_size': 16, # dipake\n",
    "    'epochs': 5, # diapke\n",
    "    'target': 'dfc_label' # dipake\n",
    "}\n",
    "\n",
    "train_dataset = DFCDataset(\n",
    "    data_config['train_dir'],\n",
    "    mode=data_config['train_mode'],\n",
    "    clip_sample_values=data_config['clip_sample_values'],\n",
    "    used_data_fraction=data_config['train_used_data_fraction'],\n",
    "    image_px_size=data_config['image_px_size'],\n",
    "    cover_all_parts=data_config['cover_all_parts_train'],\n",
    "    seed=data_config['seed'],\n",
    "    add_cacao=True\n",
    ")\n",
    "val_dataset = DFCDataset(\n",
    "    data_config['val_dir'],\n",
    "    mode=data_config['val_mode'],\n",
    "    clip_sample_values=data_config['clip_sample_values'],\n",
    "    used_data_fraction=data_config['val_used_data_fraction'],\n",
    "    image_px_size=data_config['image_px_size'],\n",
    "    cover_all_parts=data_config['cover_all_parts_validation'],\n",
    "    seed=data_config['seed'],\n",
    "    add_cacao=True\n",
    ")"
   ]
  },
  {
   "cell_type": "code",
   "execution_count": 64,
   "metadata": {},
   "outputs": [
    {
     "data": {
      "text/plain": [
       "5132"
      ]
     },
     "execution_count": 64,
     "metadata": {},
     "output_type": "execute_result"
    }
   ],
   "source": [
    "len(train_dataset)"
   ]
  },
  {
   "cell_type": "code",
   "execution_count": 65,
   "metadata": {},
   "outputs": [
    {
     "data": {
      "text/plain": [
       "995"
      ]
     },
     "execution_count": 65,
     "metadata": {},
     "output_type": "execute_result"
    }
   ],
   "source": [
    "len(val_dataset)"
   ]
  },
  {
   "cell_type": "code",
   "execution_count": 66,
   "metadata": {},
   "outputs": [
    {
     "name": "stderr",
     "output_type": "stream",
     "text": [
      "/Users/aradinka/miniforge3/envs/ssl/lib/python3.9/site-packages/rasterio/__init__.py:220: NotGeoreferencedWarning: Dataset has no geotransform, gcps, or rpcs. The identity matrix be returned.\n",
      "  s = DatasetReader(path, driver=driver, sharing=sharing, **kwargs)\n"
     ]
    },
    {
     "data": {
      "text/plain": [
       "{'s2': tensor([[[0.9253, 0.9253, 0.9253,  ..., 0.9445, 0.9445, 0.9445],\n",
       "          [0.9253, 0.9253, 0.9253,  ..., 0.9445, 0.9445, 0.9445],\n",
       "          [0.9253, 0.9253, 0.9253,  ..., 0.9445, 0.9445, 0.9445],\n",
       "          ...,\n",
       "          [0.9146, 0.9146, 0.9146,  ..., 0.9304, 0.9304, 0.9304],\n",
       "          [0.9146, 0.9146, 0.9146,  ..., 0.9304, 0.9304, 0.9304],\n",
       "          [0.9146, 0.9146, 0.9146,  ..., 0.9304, 0.9304, 0.9304]],\n",
       " \n",
       "         [[0.7335, 0.7320, 0.7229,  ..., 0.7248, 0.7297, 0.7267],\n",
       "          [0.7392, 0.7297, 0.7236,  ..., 0.7263, 0.7267, 0.7248],\n",
       "          [0.7278, 0.7233, 0.7267,  ..., 0.7297, 0.7183, 0.7175],\n",
       "          ...,\n",
       "          [0.7012, 0.7145, 0.7145,  ..., 0.7377, 0.7248, 0.7290],\n",
       "          [0.7054, 0.7198, 0.7054,  ..., 0.7214, 0.7175, 0.7263],\n",
       "          [0.7107, 0.7141, 0.7149,  ..., 0.7195, 0.7111, 0.7191]],\n",
       " \n",
       "         [[0.7310, 0.7137, 0.7036,  ..., 0.6542, 0.6639, 0.6527],\n",
       "          [0.7295, 0.7129, 0.6996,  ..., 0.6635, 0.6560, 0.6527],\n",
       "          [0.7176, 0.7021, 0.6982,  ..., 0.6567, 0.6372, 0.6419],\n",
       "          ...,\n",
       "          [0.6625, 0.7079, 0.7137,  ..., 0.6906, 0.7014, 0.7090],\n",
       "          [0.6614, 0.6996, 0.6794,  ..., 0.6693, 0.6816, 0.6996],\n",
       "          [0.6747, 0.6978, 0.6899,  ..., 0.6607, 0.6722, 0.6855]],\n",
       " \n",
       "         ...,\n",
       " \n",
       "         [[0.9970, 0.9970, 0.9970,  ..., 0.9960, 0.9960, 0.9960],\n",
       "          [0.9970, 0.9970, 0.9970,  ..., 0.9960, 0.9960, 0.9960],\n",
       "          [0.9970, 0.9970, 0.9970,  ..., 0.9960, 0.9960, 0.9960],\n",
       "          ...,\n",
       "          [0.9980, 0.9980, 0.9980,  ..., 0.9980, 0.9980, 0.9980],\n",
       "          [0.9980, 0.9980, 0.9980,  ..., 0.9980, 0.9980, 0.9980],\n",
       "          [0.9980, 0.9980, 0.9980,  ..., 0.9980, 0.9980, 0.9980]],\n",
       " \n",
       "         [[0.6921, 0.6617, 0.6617,  ..., 0.5707, 0.5707, 0.5640],\n",
       "          [0.6759, 0.6642, 0.6642,  ..., 0.5436, 0.5436, 0.5466],\n",
       "          [0.6759, 0.6642, 0.6642,  ..., 0.5436, 0.5436, 0.5466],\n",
       "          ...,\n",
       "          [0.6079, 0.6502, 0.6502,  ..., 0.6300, 0.6300, 0.6599],\n",
       "          [0.6170, 0.6166, 0.6166,  ..., 0.5899, 0.5899, 0.6276],\n",
       "          [0.6170, 0.6166, 0.6166,  ..., 0.5899, 0.5899, 0.6276]],\n",
       " \n",
       "         [[0.5749, 0.5568, 0.5568,  ..., 0.4718, 0.4718, 0.4615],\n",
       "          [0.5599, 0.5540, 0.5540,  ..., 0.4535, 0.4535, 0.4507],\n",
       "          [0.5599, 0.5540, 0.5540,  ..., 0.4535, 0.4535, 0.4507],\n",
       "          ...,\n",
       "          [0.5024, 0.5282, 0.5282,  ..., 0.5157, 0.5157, 0.5376],\n",
       "          [0.5049, 0.5204, 0.5204,  ..., 0.4899, 0.4899, 0.5060],\n",
       "          [0.5049, 0.5204, 0.5204,  ..., 0.4899, 0.4899, 0.5060]]],\n",
       "        dtype=torch.float64),\n",
       " 'idx': 5131,\n",
       " 'dfc': array([[[8, 8, 8, ..., 8, 8, 8],\n",
       "         [8, 8, 8, ..., 8, 8, 8],\n",
       "         [8, 8, 8, ..., 8, 8, 8],\n",
       "         ...,\n",
       "         [8, 8, 8, ..., 8, 8, 8],\n",
       "         [8, 8, 8, ..., 8, 8, 8],\n",
       "         [8, 8, 8, ..., 8, 8, 8]]], dtype=int32),\n",
       " 'dfc_label': 8,\n",
       " 'dfc_multilabel_one_hot': tensor([0., 0., 0., 0., 0., 0., 0., 0., 1.])}"
      ]
     },
     "execution_count": 66,
     "metadata": {},
     "output_type": "execute_result"
    }
   ],
   "source": [
    "train_dataset[5131]"
   ]
  },
  {
   "cell_type": "markdown",
   "metadata": {},
   "source": [
    "Load dfc "
   ]
  },
  {
   "cell_type": "code",
   "execution_count": 1,
   "metadata": {},
   "outputs": [],
   "source": [
    "import numpy as np\n",
    "from enum import Enum\n",
    "import rasterio\n",
    "from rasterio.windows import Window\n",
    "\n",
    "\n",
    "class S1Bands(Enum):\n",
    "    VV = 1\n",
    "    VH = 2\n",
    "    ALL = [VV, VH]\n",
    "    NONE = None\n",
    "\n",
    "class Sensor(Enum):\n",
    "    s1 = \"s1\"\n",
    "    s2 = \"s2\"\n",
    "    lc = \"lc\"\n",
    "    dfc = \"dfc\"\n",
    "\n",
    "class S2Bands(Enum):\n",
    "    B01 = aerosol = 1\n",
    "    B02 = blue = 2\n",
    "    B03 = green = 3\n",
    "    B04 = red = 4\n",
    "    B05 = re1 = 5\n",
    "    B06 = re2 = 6\n",
    "    B07 = re3 = 7\n",
    "    B08 = nir1 = 8\n",
    "    B08A = nir2 = 9\n",
    "    B09 = vapor = 10\n",
    "    B10 = cirrus = 11\n",
    "    B11 = swir1 = 12\n",
    "    B12 = swir2 = 13\n",
    "    ALL = [B01, B02, B03, B04, B05, B06, B07, B08, B08A, B09, B10, B11, B12]\n",
    "    RGB = [B04, B03, B02]\n",
    "    NONE = None\n",
    "\n",
    "class LCBands(Enum):\n",
    "    LC = lc = 0\n",
    "    DFC = dfc = 1\n",
    "    ALL = [DFC]\n",
    "    NONE = None\n",
    "\n",
    "def custom_get_patch(patch_path, bands=LCBands.DFC, window=None):\n",
    "    # season = Seasons(season).value\n",
    "    sensor = None\n",
    "\n",
    "    if not bands:\n",
    "        return None, None\n",
    "\n",
    "    if isinstance(bands, (list, tuple)):\n",
    "        b = bands[0]\n",
    "    else:\n",
    "        b = bands\n",
    "    \n",
    "    if isinstance(b, S1Bands):\n",
    "        sensor = Sensor.s1.value\n",
    "        bandEnum = S1Bands\n",
    "    elif isinstance(b, S2Bands):\n",
    "        sensor = Sensor.s2.value\n",
    "        bandEnum = S2Bands\n",
    "    elif isinstance(b, LCBands):\n",
    "        if LCBands(bands) == LCBands.LC:\n",
    "            sensor = Sensor.lc.value \n",
    "        else:\n",
    "            sensor = Sensor.dfc.value \n",
    "\n",
    "        bands = LCBands(1)\n",
    "        bandEnum = LCBands\n",
    "    else:\n",
    "        raise Exception(\"Invalid bands specified\")\n",
    "\n",
    "    if isinstance(bands, (list, tuple)):\n",
    "        bands = [b.value for b in bands]\n",
    "    else:\n",
    "        bands = bandEnum(bands).value\n",
    "\n",
    "    with rasterio.open(patch_path) as patch:\n",
    "        if window is not None:\n",
    "            data = patch.read(bands, window=window) \n",
    "        else:\n",
    "            data = patch.read(bands)\n",
    "        bounds = patch.bounds\n",
    "\n",
    "    # Remap IGBP to DFC bands\n",
    "    # if sensor  == \"lc\":\n",
    "    #     data = IGBP2DFC[data]\n",
    "\n",
    "    if len(data.shape) == 2:\n",
    "        data = np.expand_dims(data, axis=0)\n",
    "\n",
    "    return data, bounds"
   ]
  },
  {
   "cell_type": "code",
   "execution_count": 53,
   "metadata": {},
   "outputs": [
    {
     "data": {
      "text/plain": [
       "4"
      ]
     },
     "execution_count": 53,
     "metadata": {},
     "output_type": "execute_result"
    }
   ],
   "source": [
    "from dfc_sen12ms_dataset import DFCSEN12MSDataset\n",
    "\n",
    "\n",
    "base_dir = \"../data/data_disini\"\n",
    "dfc = DFCSEN12MSDataset(base_dir)\n",
    "image_px_size = 224\n",
    "if image_px_size != 256:\n",
    "    x_offset, y_offset = np.random.randint(0, 256 - image_px_size, 2)\n",
    "    window = Window(x_offset, y_offset, image_px_size, image_px_size)\n",
    "else:\n",
    "    window = None\n",
    "\n",
    "dfc, bounds4 = custom_get_patch(\n",
    "    patch_path=\"../data/data_disini/ROIs0000_test/dfc_0/ROIs0000_test_dfc_0_p2.tif\",\n",
    "    window=window\n",
    ")\n",
    "dfc[dfc == 3] = 0\n",
    "dfc[dfc == 8] = 0\n",
    "dfc[dfc >= 3] -= 1\n",
    "dfc[dfc >= 8] -= 1\n",
    "dfc -= 1\n",
    "dfc[dfc == -1] = 255\n",
    "\n",
    "dfc_unique, dfc_counts = np.unique(dfc, return_counts=True)\n",
    "dfc_label = dfc_unique[\n",
    "    dfc_counts.argmax()\n",
    "]\n",
    "\n",
    "dfc_label"
   ]
  },
  {
   "cell_type": "markdown",
   "metadata": {},
   "source": [
    "Create a dfc label "
   ]
  },
  {
   "cell_type": "code",
   "execution_count": 1,
   "metadata": {},
   "outputs": [],
   "source": [
    "from PIL import Image\n",
    "import numpy as np\n",
    "\n",
    "def create_array(value, shape=(1, 224, 224)):\n",
    "    \"\"\"\n",
    "    Create a numpy array of a given shape filled with a specific value.\n",
    "\n",
    "    :param value: The value to fill the array with.\n",
    "    :param shape: The shape of the array, default is (1, 224, 224).\n",
    "    :return: numpy.ndarray filled with the specified value.\n",
    "    \"\"\"\n",
    "    return np.full(shape, value, dtype=np.int32)\n",
    "\n",
    "def save_array_as_tif(array, filename):\n",
    "    \"\"\"\n",
    "    Save a numpy array as a TIFF file.\n",
    "\n",
    "    :param array: The numpy array to be saved.\n",
    "    :param filename: The filename for the saved TIFF file.\n",
    "    \"\"\"\n",
    "    image = Image.fromarray(array[0])\n",
    "    image.save(filename, format=\"TIFF\")\n",
    "\n",
    "\n",
    "\n",
    "array = create_array(11) # 11 = cacao\n",
    "\n",
    "# Test\n",
    "for index in range(5128, 5131+1):\n",
    "    save_array_as_tif(array, f\"cacao training image dfc/ROIs0000_test_dfc_0_p{index}.tif\")\n",
    "\n",
    "# Validation\n",
    "for index in range(986, 994+1):\n",
    "    save_array_as_tif(array, f\"cacao training image dfc/ROIs0000_validation_dfc_0_p{index}.tif\")"
   ]
  },
  {
   "cell_type": "code",
   "execution_count": 11,
   "metadata": {},
   "outputs": [
    {
     "name": "stderr",
     "output_type": "stream",
     "text": [
      "/var/folders/57/xjqy04fx2lzb16rmc3h3l1cc0000gn/T/ipykernel_6887/2990193728.py:19: NotGeoreferencedWarning: The given matrix is equal to Affine.identity or its flipped counterpart. GDAL may ignore this matrix and save no geotransform without raising an error. This behavior is somewhat driver-specific.\n",
      "  dataset.transform = transform\n"
     ]
    }
   ],
   "source": [
    "import numpy as np\n",
    "import tifffile\n",
    "import rasterio\n",
    "from rasterio.transform import from_origin\n",
    "\n",
    "def create_array(value, shape=(1, 256, 256)):\n",
    "    return np.full(shape, value, dtype=np.int32)\n",
    "\n",
    "def save_array_as_geotiff(array, filename):\n",
    "    # Save the array as a TIFF file first\n",
    "    tifffile.imwrite(filename, array[0], dtype=np.int32)\n",
    "\n",
    "    # Define the transformation and CRS (Coordinate Reference System)\n",
    "    transform = from_origin(0, 0, 1, 1)  # This is an example, set your own values\n",
    "    crs = \"EPSG:4326\"\n",
    "\n",
    "    # Open the saved TIFF file and write the CRS and transform\n",
    "    with rasterio.open(filename, 'r+') as dataset:\n",
    "        dataset.transform = transform\n",
    "        dataset.crs = crs\n",
    "\n",
    "# Example usage\n",
    "array = create_array(11)  # 11 = cacao\n",
    "\n",
    "# Test\n",
    "for index in range(5128, 5131+1):\n",
    "    save_array_as_geotiff(array, f\"cacao training image dfc/ROIs0000_test_dfc_0_p{index}.tif\")\n",
    "\n",
    "# Validation\n",
    "for index in range(986, 994+1):\n",
    "    save_array_as_geotiff(array, f\"cacao training image dfc/ROIs0000_validation_dfc_0_p{index}.tif\")\n"
   ]
  },
  {
   "cell_type": "code",
   "execution_count": 11,
   "metadata": {},
   "outputs": [
    {
     "data": {
      "text/plain": [
       "(1, 223, 223)"
      ]
     },
     "execution_count": 11,
     "metadata": {},
     "output_type": "execute_result"
    }
   ],
   "source": [
    "from dfc_sen12ms_dataset import DFCSEN12MSDataset\n",
    "import numpy as np\n",
    "from enum import Enum\n",
    "import rasterio\n",
    "from rasterio.windows import Window\n",
    "\n",
    "base_dir = \"../data/data_disini\"\n",
    "dfc = DFCSEN12MSDataset(base_dir)\n",
    "image_px_size = 224\n",
    "if image_px_size != 256:\n",
    "    x_offset, y_offset = np.random.randint(0, 256 - image_px_size, 2)\n",
    "    window = Window(x_offset, y_offset, image_px_size, image_px_size)\n",
    "else:\n",
    "    window = None\n",
    "\n",
    "\n",
    "s2, bounds4 = custom_get_patch(\n",
    "    patch_path=\"cacao training image tif/ROIs0000_validation_s2_0_p987.tif\",\n",
    "    window=None\n",
    ")\n",
    "# dfc[dfc == 3] = 0\n",
    "# dfc[dfc == 8] = 0\n",
    "# dfc[dfc >= 3] -= 1\n",
    "# dfc[dfc >= 8] -= 1\n",
    "# dfc -= 1\n",
    "# dfc[dfc == -1] = 255\n",
    "\n",
    "# dfc_unique, dfc_counts = np.unique(dfc, return_counts=True)\n",
    "# dfc_label = dfc_unique[\n",
    "#     dfc_counts.argmax()\n",
    "# ]\n",
    "\n",
    "# dfc_label\n",
    "s2.shape"
   ]
  },
  {
   "cell_type": "code",
   "execution_count": 6,
   "metadata": {},
   "outputs": [
    {
     "data": {
      "text/plain": [
       "Window(col_off=17, row_off=24, width=224, height=224)"
      ]
     },
     "execution_count": 6,
     "metadata": {},
     "output_type": "execute_result"
    }
   ],
   "source": [
    "window"
   ]
  },
  {
   "cell_type": "markdown",
   "metadata": {},
   "source": [
    "Load new cacao train data "
   ]
  },
  {
   "cell_type": "code",
   "execution_count": 13,
   "metadata": {},
   "outputs": [
    {
     "name": "stdout",
     "output_type": "stream",
     "text": [
      "EPSG:4326\n"
     ]
    }
   ],
   "source": [
    "dir = \"data 02/tif/ROIs0000_validation_s2_0_p986.tif\"\n",
    "dir = \"data 03/ROIs0000_validation_s2_0_p986.tif\"\n",
    "# dir = \"data 03/ROIs0000_validation_s2_0_p986.tif\"\n",
    "dir = \"../data/data_disini/ROIs0000_test/s2_0/ROIs0000_test_s2_0_p0.tif\"\n",
    "\n",
    "dir = \"../data/data_disini/ROIs0000_validation/dfc_0/ROIs0000_validation_dfc_0_p996.tif\"\n",
    "dir = \"../data/data_disini/ROIs0000_test/dfc_0/ROIs0000_test_dfc_0_p5132.tif\"\n",
    "dir = \"cacao training image dfc/ROIs0000_test_dfc_0_p5128.tif\"\n",
    "\n",
    "import os\n",
    "import numpy as np\n",
    "import rasterio\n",
    "from rasterio.windows import Window\n",
    "\n",
    "image_px_size = 224\n",
    "if image_px_size != 256:\n",
    "    # crop the data to image_px_size times image_px_size (e.g. 128x128)\n",
    "    x_offset, y_offset = np.random.randint(0, 256 - image_px_size, 2)\n",
    "    window = Window(x_offset, y_offset, image_px_size, image_px_size)\n",
    "\n",
    "else:\n",
    "    window = None\n",
    "\n",
    "bands = [i for i in range(1, 14)]\n",
    "bands = 1 # dfc\n",
    "\n",
    "\n",
    "with rasterio.open(dir) as patch:\n",
    "    if window is not None:\n",
    "        data = patch.read(bands, window=window) \n",
    "        print(patch.crs)\n",
    "    else:\n",
    "        data = patch.read(bands)\n",
    "    bounds = patch.bounds"
   ]
  },
  {
   "cell_type": "code",
   "execution_count": 3,
   "metadata": {},
   "outputs": [
    {
     "data": {
      "text/plain": [
       "'/Users/aradinka/Documents/GitHub/koltiva/SSLTransformerRS/finetune_cacao'"
      ]
     },
     "execution_count": 3,
     "metadata": {},
     "output_type": "execute_result"
    }
   ],
   "source": [
    "os.getcwd()"
   ]
  },
  {
   "cell_type": "code",
   "execution_count": 5,
   "metadata": {},
   "outputs": [
    {
     "ename": "FileNotFoundError",
     "evalue": "[Errno 2] No such file or directory: 'data 05'",
     "output_type": "error",
     "traceback": [
      "\u001b[0;31m---------------------------------------------------------------------------\u001b[0m",
      "\u001b[0;31mFileNotFoundError\u001b[0m                         Traceback (most recent call last)",
      "\u001b[1;32m/Users/aradinka/Documents/GitHub/koltiva/SSLTransformerRS/finetune_cacao/00 Playground.ipynb Cell 17\u001b[0m line \u001b[0;36m1\n\u001b[0;32m----> <a href='vscode-notebook-cell:/Users/aradinka/Documents/GitHub/koltiva/SSLTransformerRS/finetune_cacao/00%20Playground.ipynb#X23sZmlsZQ%3D%3D?line=0'>1</a>\u001b[0m os\u001b[39m.\u001b[39;49mlistdir(data_dir)\n",
      "\u001b[0;31mFileNotFoundError\u001b[0m: [Errno 2] No such file or directory: 'data 05'"
     ]
    }
   ],
   "source": [
    "os.listdir(data_dir)"
   ]
  },
  {
   "cell_type": "code",
   "execution_count": 13,
   "metadata": {},
   "outputs": [
    {
     "name": "stdout",
     "output_type": "stream",
     "text": [
      "['data 04/ebm_192.tif', 'data 04/ebm_804.tif', 'data 04/ebm_637.tif', 'data 04/ebm_145.tif', 'data 04/ebm_179.tif', 'data 04/ebm_958.tif', 'data 04/ebm_780.tif', 'data 04/ebm_757.tif', 'data 04/ebm_756.tif', 'data 04/ebm_971.tif', 'data 04/ebm_781.tif', 'data 04/ebm_959.tif', 'data 04/ebm_178.tif', 'data 04/ebm_144.tif', 'data 04/ebm_636.tif', 'data 04/ebm_811.tif', 'data 04/ebm_193.tif', 'data 04/ebm_807.tif', 'data 04/ebm_813.tif', 'data 04/ebm_146.tif', 'data 04/ebm_634.tif', 'data 04/ebm_783.tif', 'data 04/ebm_973.tif', 'data 04/ebm_754.tif', 'data 04/ebm_998.tif', 'data 04/ebm_768.tif', 'data 04/ebm_769.tif', 'data 04/ebm_999.tif', 'data 04/ebm_755.tif', 'data 04/ebm_972.tif', 'data 04/ebm_782.tif', 'data 04/ebm_635.tif', 'data 04/ebm_153.tif', 'data 04/ebm_147.tif', 'data 04/ebm_812.tif', 'data 04/ebm_33.tif', 'data 04/ebm_27.tif', 'data 04/ebm_802.tif', 'data 04/ebm_816.tif', 'data 04/ebm_180.tif', 'data 04/ebm_194.tif', 'data 04/ebm_143.tif', 'data 04/ebm_631.tif', 'data 04/ebm_976.tif', 'data 04/ebm_1032.tif', 'data 04/ebm_962.tif', 'data 04/ebm_792.tif', 'data 04/ebm_786.tif', 'data 04/ebm_779.tif', 'data 04/ebm_751.tif', 'data 04/ebm_989.tif', 'data 04/ebm_745.tif', 'data 04/ebm_235.tif', 'data 04/ebm_234.tif', 'data 04/ebm_744.tif', 'data 04/ebm_988.tif', 'data 04/ebm_750.tif', 'data 04/ebm_778.tif', 'data 04/ebm_787.tif', 'data 04/ebm_793.tif', 'data 04/ebm_963.tif', 'data 04/ebm_1033.tif', 'data 04/ebm_977.tif', 'data 04/ebm_630.tif', 'data 04/ebm_142.tif', 'data 04/ebm_181.tif', 'data 04/ebm_817.tif', 'data 04/ebm_803.tif', 'data 04/ebm_32.tif', 'data 04/ebm_815.tif', 'data 04/ebm_801.tif', 'data 04/ebm_197.tif', 'data 04/ebm_632.tif', 'data 04/ebm_1031.tif', 'data 04/ebm_961.tif', 'data 04/ebm_975.tif', 'data 04/ebm_785.tif', 'data 04/ebm_791.tif', 'data 04/ebm_746.tif', 'data 04/ebm_752.tif', 'data 04/ebm_236.tif', 'data 04/ebm_237.tif', 'data 04/ebm_753.tif', 'data 04/ebm_747.tif', 'data 04/ebm_790.tif', 'data 04/ebm_784.tif', 'data 04/ebm_974.tif', 'data 04/ebm_960.tif', 'data 04/ebm_1030.tif', 'data 04/ebm_141.tif', 'data 04/ebm_633.tif', 'data 04/ebm_800.tif', 'data 04/ebm_814.tif', 'data 04/ebm_31.tif', 'data 04/ebm_42.tif', 'data 04/ebm_330.tif', 'data 04/ebm_324.tif', 'data 04/ebm_81.tif', 'data 04/ebm_95.tif', 'data 04/ebm_318.tif', 'data 04/ebm_683.tif', 'data 04/ebm_867.tif', 'data 04/ebm_132.tif', 'data 04/ebm_126.tif', 'data 04/ebm_898.tif', 'data 04/ebm_1057.tif', 'data 04/ebm_720.tif', 'data 04/ebm_734.tif', 'data 04/ebm_708.tif', 'data 04/ebm_1080.tif', 'data 04/ebm_287.tif', 'data 04/ebm_293.tif', 'data 04/ebm_250.tif', 'data 04/ebm_278.tif', 'data 04/ebm_279.tif', 'data 04/ebm_251.tif', 'data 04/ebm_245.tif', 'data 04/ebm_292.tif', 'data 04/ebm_286.tif', 'data 04/ebm_1081.tif', 'data 04/ebm_709.tif', 'data 04/ebm_735.tif', 'data 04/ebm_721.tif', 'data 04/ebm_1056.tif', 'data 04/ebm_127.tif', 'data 04/ebm_899.tif', 'data 04/ebm_655.tif', 'data 04/ebm_866.tif', 'data 04/ebm_682.tif', 'data 04/ebm_696.tif', 'data 04/ebm_94.tif', 'data 04/ebm_319.tif', 'data 04/ebm_325.tif', 'data 04/ebm_331.tif', 'data 04/ebm_43.tif', 'data 04/ebm_41.tif', 'data 04/ebm_327.tif', 'data 04/ebm_333.tif', 'data 04/ebm_96.tif', 'data 04/ebm_82.tif', 'data 04/ebm_680.tif', 'data 04/ebm_694.tif', 'data 04/ebm_864.tif', 'data 04/ebm_125.tif', 'data 04/ebm_131.tif', 'data 04/ebm_657.tif', 'data 04/ebm_290.tif', 'data 04/ebm_284.tif', 'data 04/ebm_253.tif', 'data 04/ebm_247.tif', 'data 04/ebm_246.tif', 'data 04/ebm_252.tif', 'data 04/ebm_285.tif', 'data 04/ebm_291.tif', 'data 04/ebm_722.tif', 'data 04/ebm_736.tif', 'data 04/ebm_130.tif', 'data 04/ebm_656.tif', 'data 04/ebm_124.tif', 'data 04/ebm_865.tif', 'data 04/ebm_695.tif', 'data 04/ebm_681.tif', 'data 04/ebm_83.tif', 'data 04/ebm_97.tif', 'data 04/ebm_326.tif', 'data 04/ebm_68.tif', 'data 04/ebm_50.tif', 'data 04/ebm_78.tif', 'data 04/ebm_93.tif', 'data 04/ebm_322.tif', 'data 04/ebm_861.tif', 'data 04/ebm_685.tif', 'data 04/ebm_691.tif', 'data 04/ebm_849.tif', 'data 04/ebm_108.tif', 'data 04/ebm_915.tif', 'data 04/ebm_929.tif', 'data 04/ebm_1079.tif', 'data 04/ebm_1086.tif', 'data 04/ebm_732.tif', 'data 04/ebm_295.tif', 'data 04/ebm_281.tif', 'data 04/ebm_256.tif', 'data 04/ebm_242.tif', 'data 04/ebm_280.tif', 'data 04/ebm_294.tif', 'data 04/ebm_733.tif', 'data 04/ebm_1087.tif', 'data 04/ebm_1078.tif', 'data 04/ebm_928.tif', 'data 04/ebm_1050.tif', 'data 04/ebm_914.tif', 'data 04/ebm_109.tif', 'data 04/ebm_848.tif', 'data 04/ebm_690.tif', 'data 04/ebm_684.tif', 'data 04/ebm_337.tif', 'data 04/ebm_92.tif', 'data 04/ebm_79.tif', 'data 04/ebm_51.tif', 'data 04/ebm_84.tif', 'data 04/ebm_90.tif', 'data 04/ebm_335.tif', 'data 04/ebm_321.tif', 'data 04/ebm_862.tif', 'data 04/ebm_692.tif', 'data 04/ebm_686.tif', 'data 04/ebm_123.tif', 'data 04/ebm_1046.tif', 'data 04/ebm_916.tif', 'data 04/ebm_719.tif', 'data 04/ebm_731.tif', 'data 04/ebm_282.tif', 'data 04/ebm_269.tif', 'data 04/ebm_241.tif', 'data 04/ebm_255.tif', 'data 04/ebm_254.tif', 'data 04/ebm_240.tif', 'data 04/ebm_268.tif', 'data 04/ebm_297.tif', 'data 04/ebm_718.tif', 'data 04/ebm_1090.tif', 'data 04/ebm_1047.tif', 'data 04/ebm_136.tif', 'data 04/ebm_687.tif', 'data 04/ebm_693.tif', 'data 04/ebm_863.tif', 'data 04/ebm_320.tif', 'data 04/ebm_334.tif', 'data 04/ebm_91.tif', 'data 04/ebm_77.tif', 'data 04/ebm_311.tif', 'data 04/ebm_305.tif', 'data 04/ebm_339.tif', 'data 04/ebm_852.tif', 'data 04/ebm_846.tif', 'data 04/ebm_113.tif', 'data 04/ebm_107.tif', 'data 04/ebm_661.tif', 'data 04/ebm_1076.tif', 'data 04/ebm_926.tif', 'data 04/ebm_1062.tif', 'data 04/ebm_1089.tif', 'data 04/ebm_715.tif', 'data 04/ebm_265.tif', 'data 04/ebm_259.tif', 'data 04/ebm_258.tif', 'data 04/ebm_270.tif', 'data 04/ebm_264.tif', 'data 04/ebm_714.tif', 'data 04/ebm_1088.tif', 'data 04/ebm_927.tif', 'data 04/ebm_1077.tif', 'data 04/ebm_884.tif', 'data 04/ebm_106.tif', 'data 04/ebm_660.tif', 'data 04/ebm_112.tif', 'data 04/ebm_847.tif', 'data 04/ebm_338.tif', 'data 04/ebm_89.tif', 'data 04/ebm_304.tif', 'data 04/ebm_76.tif', 'data 04/ebm_48.tif', 'data 04/ebm_74.tif', 'data 04/ebm_60.tif', 'data 04/ebm_306.tif', 'data 04/ebm_312.tif', 'data 04/ebm_879.tif', 'data 04/ebm_845.tif', 'data 04/ebm_689.tif', 'data 04/ebm_851.tif', 'data 04/ebm_662.tif', 'data 04/ebm_110.tif', 'data 04/ebm_886.tif', 'data 04/ebm_1049.tif', 'data 04/ebm_931.tif', 'data 04/ebm_1061.tif', 'data 04/ebm_1075.tif', 'data 04/ebm_925.tif', 'data 04/ebm_716.tif', 'data 04/ebm_299.tif', 'data 04/ebm_272.tif', 'data 04/ebm_266.tif', 'data 04/ebm_267.tif', 'data 04/ebm_273.tif', 'data 04/ebm_298.tif', 'data 04/ebm_717.tif', 'data 04/ebm_1074.tif', 'data 04/ebm_1060.tif', 'data 04/ebm_930.tif', 'data 04/ebm_1048.tif', 'data 04/ebm_893.tif', 'data 04/ebm_887.tif', 'data 04/ebm_111.tif', 'data 04/ebm_663.tif', 'data 04/ebm_850.tif', 'data 04/ebm_688.tif', 'data 04/ebm_844.tif', 'data 04/ebm_313.tif', 'data 04/ebm_307.tif', 'data 04/ebm_61.tif', 'data 04/ebm_75.tif', 'data 04/ebm_49.tif', 'data 04/ebm_65.tif', 'data 04/ebm_59.tif', 'data 04/ebm_303.tif', 'data 04/ebm_317.tif', 'data 04/ebm_854.tif', 'data 04/ebm_883.tif', 'data 04/ebm_897.tif', 'data 04/ebm_129.tif', 'data 04/ebm_1058.tif', 'data 04/ebm_713.tif', 'data 04/ebm_707.tif', 'data 04/ebm_288.tif', 'data 04/ebm_277.tif', 'data 04/ebm_263.tif', 'data 04/ebm_262.tif', 'data 04/ebm_276.tif', 'data 04/ebm_289.tif', 'data 04/ebm_706.tif', 'data 04/ebm_712.tif', 'data 04/ebm_1059.tif', 'data 04/ebm_114.tif', 'data 04/ebm_666.tif', 'data 04/ebm_896.tif', 'data 04/ebm_128.tif', 'data 04/ebm_882.tif', 'data 04/ebm_855.tif', 'data 04/ebm_316.tif', 'data 04/ebm_302.tif', 'data 04/ebm_58.tif', 'data 04/ebm_66.tif', 'data 04/ebm_328.tif', 'data 04/ebm_99.tif', 'data 04/ebm_314.tif', 'data 04/ebm_300.tif', 'data 04/ebm_894.tif', 'data 04/ebm_880.tif', 'data 04/ebm_658.tif', 'data 04/ebm_664.tif', 'data 04/ebm_1073.tif', 'data 04/ebm_710.tif', 'data 04/ebm_248.tif', 'data 04/ebm_260.tif', 'data 04/ebm_274.tif', 'data 04/ebm_275.tif', 'data 04/ebm_261.tif', 'data 04/ebm_249.tif', 'data 04/ebm_711.tif', 'data 04/ebm_705.tif', 'data 04/ebm_1072.tif', 'data 04/ebm_665.tif', 'data 04/ebm_659.tif', 'data 04/ebm_881.tif', 'data 04/ebm_895.tif', 'data 04/ebm_856.tif', 'data 04/ebm_301.tif', 'data 04/ebm_315.tif', 'data 04/ebm_329.tif', 'data 04/ebm_67.tif', 'data 04/ebm_28.tif', 'data 04/ebm_14.tif', 'data 04/ebm_819.tif', 'data 04/ebm_831.tif', 'data 04/ebm_825.tif', 'data 04/ebm_164.tif', 'data 04/ebm_158.tif', 'data 04/ebm_1029.tif', 'data 04/ebm_1001.tif', 'data 04/ebm_789.tif', 'data 04/ebm_776.tif', 'data 04/ebm_986.tif', 'data 04/ebm_987.tif', 'data 04/ebm_777.tif', 'data 04/ebm_788.tif', 'data 04/ebm_1000.tif', 'data 04/ebm_1028.tif', 'data 04/ebm_159.tif', 'data 04/ebm_165.tif', 'data 04/ebm_824.tif', 'data 04/ebm_830.tif', 'data 04/ebm_818.tif', 'data 04/ebm_15.tif', 'data 04/ebm_29.tif', 'data 04/ebm_832.tif', 'data 04/ebm_1002.tif', 'data 04/ebm_775.tif', 'data 04/ebm_761.tif', 'data 04/ebm_749.tif', 'data 04/ebm_991.tif', 'data 04/ebm_985.tif', 'data 04/ebm_239.tif', 'data 04/ebm_238.tif', 'data 04/ebm_984.tif', 'data 04/ebm_990.tif', 'data 04/ebm_748.tif', 'data 04/ebm_760.tif', 'data 04/ebm_1003.tif', 'data 04/ebm_166.tif', 'data 04/ebm_833.tif', 'data 04/ebm_199.tif', 'data 04/ebm_12.tif', 'data 04/ebm_823.tif', 'data 04/ebm_162.tif', 'data 04/ebm_176.tif', 'data 04/ebm_758.tif', 'data 04/ebm_770.tif', 'data 04/ebm_2.tif', 'data 04/ebm_200.tif', 'data 04/ebm_771.tif', 'data 04/ebm_759.tif', 'data 04/ebm_177.tif', 'data 04/ebm_605.tif', 'data 04/ebm_163.tif', 'data 04/ebm_822.tif', 'data 04/ebm_13.tif', 'data 04/ebm_11.tif', 'data 04/ebm_834.tif', 'data 04/ebm_820.tif', 'data 04/ebm_149.tif', 'data 04/ebm_175.tif', 'data 04/ebm_161.tif', 'data 04/ebm_607.tif', 'data 04/ebm_798.tif', 'data 04/ebm_1004.tif', 'data 04/ebm_767.tif', 'data 04/ebm_1.tif', 'data 04/ebm_217.tif', 'data 04/ebm_216.tif', 'data 04/ebm_772.tif', 'data 04/ebm_766.tif', 'data 04/ebm_1005.tif', 'data 04/ebm_799.tif', 'data 04/ebm_160.tif', 'data 04/ebm_148.tif', 'data 04/ebm_821.tif', 'data 04/ebm_835.tif', 'data 04/ebm_10.tif']\n"
     ]
    }
   ],
   "source": [
    "import os\n",
    "import numpy as np\n",
    "import rasterio\n",
    "from rasterio.windows import Window\n",
    "\n",
    "# dir = \"data 02/tif/ROIs0000_validation_s2_0_p986.tif\"\n",
    "# dir = \"data 03/ROIs0000_validation_s2_0_p986.tif\"\n",
    "# # dir = \"data 03/ROIs0000_validation_s2_0_p986.tif\"\n",
    "# # dir = \"../data/data_disini/ROIs0000_test/s2_0/ROIs0000_test_s2_0_p0.tif\"\n",
    "# dir = \"../data/data_disini/ROIs0000_validation/dfc_0/ROIs0000_validation_dfc_0_p996.tif\"\n",
    "\n",
    "data_dir = \"data 04\"\n",
    "imgs = [os.path.join(data_dir, i) for i in os.listdir(data_dir) if i.split(\".\")[-1] == \"tif\"]\n",
    "# print(imgs)\n",
    "\n",
    "\n",
    "\n",
    "image_px_size = 224\n",
    "if image_px_size != 256:\n",
    "    # crop the data to image_px_size times image_px_size (e.g. 128x128)\n",
    "    x_offset, y_offset = np.random.randint(0, 256 - image_px_size, 2)\n",
    "    window = Window(x_offset, y_offset, image_px_size, image_px_size)\n",
    "\n",
    "else:\n",
    "    window = None\n",
    "\n",
    "bands = [i for i in range(1, 14)]\n",
    "\n",
    "# window = None\n",
    "\n",
    "for dir in imgs:\n",
    "    with rasterio.open(dir) as patch:\n",
    "        if window is not None:\n",
    "            data = patch.read(bands, window=window) \n",
    "            # print(patch.crs)\n",
    "        else:\n",
    "            data = patch.read(bands)\n",
    "        bounds = patch.bounds\n",
    "    # print(dir)\n",
    "    if data.shape[2] < 224 or data.shape[1] < 224:\n",
    "        print(data.shape)"
   ]
  }
 ],
 "metadata": {
  "kernelspec": {
   "display_name": "ssl",
   "language": "python",
   "name": "python3"
  },
  "language_info": {
   "codemirror_mode": {
    "name": "ipython",
    "version": 3
   },
   "file_extension": ".py",
   "mimetype": "text/x-python",
   "name": "python",
   "nbconvert_exporter": "python",
   "pygments_lexer": "ipython3",
   "version": "3.9.18"
  }
 },
 "nbformat": 4,
 "nbformat_minor": 2
}
